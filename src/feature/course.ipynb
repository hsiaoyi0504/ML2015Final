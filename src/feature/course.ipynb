{
 "cells": [
  {
   "cell_type": "code",
   "execution_count": 2,
   "metadata": {
    "collapsed": true
   },
   "outputs": [],
   "source": [
    "import pandas\n",
    "import numpy as np"
   ]
  },
  {
   "cell_type": "code",
   "execution_count": 3,
   "metadata": {
    "collapsed": true
   },
   "outputs": [],
   "source": [
    "data=pandas.read_csv(\"../../data/ML_final_project/object.csv\")"
   ]
  },
  {
   "cell_type": "code",
   "execution_count": 5,
   "metadata": {
    "collapsed": false
   },
   "outputs": [
    {
     "data": {
      "text/html": [
       "<div>\n",
       "<table border=\"1\" class=\"dataframe\">\n",
       "  <thead>\n",
       "    <tr style=\"text-align: right;\">\n",
       "      <th></th>\n",
       "      <th>course_id</th>\n",
       "      <th>module_id</th>\n",
       "      <th>category</th>\n",
       "      <th>children</th>\n",
       "      <th>start</th>\n",
       "    </tr>\n",
       "  </thead>\n",
       "  <tbody>\n",
       "    <tr>\n",
       "      <th>0</th>\n",
       "      <td>SpATywNh6bZuzm8s1ceuBUnMUAeoAHHw</td>\n",
       "      <td>L1s4VseGlRT302GZlJNStvtJZnvnr3IJ</td>\n",
       "      <td>about</td>\n",
       "      <td>NaN</td>\n",
       "      <td>null</td>\n",
       "    </tr>\n",
       "    <tr>\n",
       "      <th>1</th>\n",
       "      <td>SpATywNh6bZuzm8s1ceuBUnMUAeoAHHw</td>\n",
       "      <td>HxVne4dRqhXXf9FEsuUxVBG2THLkXgGV</td>\n",
       "      <td>about</td>\n",
       "      <td>NaN</td>\n",
       "      <td>null</td>\n",
       "    </tr>\n",
       "    <tr>\n",
       "      <th>2</th>\n",
       "      <td>SpATywNh6bZuzm8s1ceuBUnMUAeoAHHw</td>\n",
       "      <td>3fpwAdewUyNZkLToSwy7eWQmmglHzA0G</td>\n",
       "      <td>chapter</td>\n",
       "      <td>wq9HGmGdGoXFRgp4KQzo7WD8RSwwckZL X2rMpSy9lvzEe...</td>\n",
       "      <td>2014-08-11T01:00:00</td>\n",
       "    </tr>\n",
       "    <tr>\n",
       "      <th>3</th>\n",
       "      <td>SpATywNh6bZuzm8s1ceuBUnMUAeoAHHw</td>\n",
       "      <td>qEdbIFRbbfpjN4tkWOq8kMsxES84yPfy</td>\n",
       "      <td>chapter</td>\n",
       "      <td>nQZ5JRSJDlJ0XmlkYykP7iWt748Hp5uQ ehLxBxQUzqxrI...</td>\n",
       "      <td>2014-07-28T01:00:00</td>\n",
       "    </tr>\n",
       "    <tr>\n",
       "      <th>4</th>\n",
       "      <td>SpATywNh6bZuzm8s1ceuBUnMUAeoAHHw</td>\n",
       "      <td>q9vSHnqnL8T6MSYy1QZ1d1v8gb7HqKIc</td>\n",
       "      <td>chapter</td>\n",
       "      <td>aifkOeC4slG9VREeJqwyVeLriGIqAUjY 8u4PaPNvjqjSf...</td>\n",
       "      <td>2014-08-25T01:00:00</td>\n",
       "    </tr>\n",
       "  </tbody>\n",
       "</table>\n",
       "</div>"
      ],
      "text/plain": [
       "                          course_id                         module_id  \\\n",
       "0  SpATywNh6bZuzm8s1ceuBUnMUAeoAHHw  L1s4VseGlRT302GZlJNStvtJZnvnr3IJ   \n",
       "1  SpATywNh6bZuzm8s1ceuBUnMUAeoAHHw  HxVne4dRqhXXf9FEsuUxVBG2THLkXgGV   \n",
       "2  SpATywNh6bZuzm8s1ceuBUnMUAeoAHHw  3fpwAdewUyNZkLToSwy7eWQmmglHzA0G   \n",
       "3  SpATywNh6bZuzm8s1ceuBUnMUAeoAHHw  qEdbIFRbbfpjN4tkWOq8kMsxES84yPfy   \n",
       "4  SpATywNh6bZuzm8s1ceuBUnMUAeoAHHw  q9vSHnqnL8T6MSYy1QZ1d1v8gb7HqKIc   \n",
       "\n",
       "  category                                           children  \\\n",
       "0    about                                                NaN   \n",
       "1    about                                                NaN   \n",
       "2  chapter  wq9HGmGdGoXFRgp4KQzo7WD8RSwwckZL X2rMpSy9lvzEe...   \n",
       "3  chapter  nQZ5JRSJDlJ0XmlkYykP7iWt748Hp5uQ ehLxBxQUzqxrI...   \n",
       "4  chapter  aifkOeC4slG9VREeJqwyVeLriGIqAUjY 8u4PaPNvjqjSf...   \n",
       "\n",
       "                 start  \n",
       "0                 null  \n",
       "1                 null  \n",
       "2  2014-08-11T01:00:00  \n",
       "3  2014-07-28T01:00:00  \n",
       "4  2014-08-25T01:00:00  "
      ]
     },
     "execution_count": 5,
     "metadata": {},
     "output_type": "execute_result"
    }
   ],
   "source": [
    "data.head()"
   ]
  },
  {
   "cell_type": "code",
   "execution_count": 6,
   "metadata": {
    "collapsed": false
   },
   "outputs": [
    {
     "data": {
      "text/plain": [
       "shM3Yy9vxHn2aqjSYfQXOcwGo0hWh3MI    2113\n",
       "9Bd26pfDLvkPINwLnpaGcf0LrLUvY1Mz    1983\n",
       "Wm3dddHSynJ76EJV6hyLYKGGRL0JF3YK    1356\n",
       "HbeAZjZFFQUe90oTP0RRO0PEtRAqU3kK    1312\n",
       "nSfGxfEtzw5G72fVbfaowxsV46Pg1xIc    1151\n",
       "tXbz2ZYaRyb2ZsWUBPoYzAmisOhHQrYl    1104\n",
       "WM572q68zD5VW8pcvVTc1RhhFUq3iRFN    1050\n",
       "q6A6QG7qMpyNcznyT2XaIxnfNGkZRxXl     999\n",
       "G8EPVSXsOYB5YQWZGiz1aVq5Pgr2GrQu     989\n",
       "5X6FeZozNMgE2VRi3MJYjkkFK8SETtu2     980\n",
       "V4tXq15GxHo2gaMpaJLZ3IGEkP949IbE     800\n",
       "a2E7NQC7nZB7WHEhKGhKnKvUWtsLAQzh     787\n",
       "3cnZpv6ReApmCaZyaQwi2izDZxVRdC01     743\n",
       "A3fsA9Zfv1X2fVEQhTw51lKENdNrEqT3     740\n",
       "mTmmr5zd8l4wXhwiULwjSmSbi9ktcFmV     739\n",
       "7GRhBDsirIGkRZBtSMEzNTyDr2JQm4xx     734\n",
       "Er0RFawC4sHagDmmQZcBGBrzamLQcblZ     702\n",
       "RXDvfPUBYFlVdlueBFbLW0mhhAyGEqpt     659\n",
       "NmbZ3BmS8V4pMg6oxXHWpqqMZCE1jvYt     573\n",
       "xMd9DzNyUCTLRPVbwWVzf4vq06oqrTT1     523\n",
       "gvEwgd64UX4t3K7ftZwXiMkFuxFUAqQE     510\n",
       "5Gyp41oLVo7Gg7vF4vpmggWP5MU70QO6     498\n",
       "ykoe1cCWK134BJmfbNoPEenJOIWdtQOZ     495\n",
       "9zpXzW9zCfU8KGBWkhlsGH8B8czISH4J     474\n",
       "SpATywNh6bZuzm8s1ceuBUnMUAeoAHHw     467\n",
       "3VkHkmOtom3jM2wCu94xgzzu1d6Dn7or     406\n",
       "DPnLzkJJqOOPRJfBxIHbQEERiYHu5ila     398\n",
       "DABrJ6O4AotFwuAbfo1fuMj40VmMpPGX     395\n",
       "9Mq1P5hrrLw6Bh9X4W4ZjisQJDdxjz9x     387\n",
       "I7Go4XwWgpjRJM8EZGEnBpkfSmBNOlsO     381\n",
       "X78EhlW2JxwO1I6S3U4yZVwkEQpKXLOj     371\n",
       "H2lDW05SyKnwntZ6Fora76aPAEswcMa5     343\n",
       "bWdj2GDclj5ofokWjzoa5jAwMkxCykd6     338\n",
       "1pvLqtotBsKv7QSOsLicJDQMHx3lui6d     335\n",
       "TAYxxh39I2LZnftBpL0LfF2NxzrCKpkx     333\n",
       "KHPw0gmg1Ad3V07TqRpyBzA8mRjj7mkt     317\n",
       "AXUJZGmZ0xaYSWazu8RQ1G5c76ECT1Kd     274\n",
       "81UZtt1JJwBFYMj5u38WNKCSVA4IJSDv     269\n",
       "fbPkOYLVPtPgIt0MxizjfFJov3JbHyAi     221\n",
       "Name: course_id, dtype: int64"
      ]
     },
     "execution_count": 6,
     "metadata": {},
     "output_type": "execute_result"
    }
   ],
   "source": [
    "data['course_id'].value_counts()"
   ]
  },
  {
   "cell_type": "code",
   "execution_count": 7,
   "metadata": {
    "collapsed": false
   },
   "outputs": [
    {
     "data": {
      "text/plain": [
       "c2gHdMExb7EwifmX2NWcSUUkIkoV0Dwd    2\n",
       "ad5StVuGM9lZjYpwif4f493MJ9uy7v56    2\n",
       "f5z0Mp47MtOteSZtNDEmO3qqRBzop0jU    2\n",
       "mF51TNgyEBFDWO7iPA7AHgNExwgNHWzd    2\n",
       "WaJrYkRND9e4JFSAqKrwIsx1iyJVO7oU    2\n",
       "SMrhcrSaiB6UfYf40qTIwwfiWZIzuB2G    2\n",
       "4skmlIA12oxpTANt2Nnk3lEuMosrxehW    2\n",
       "mZ5YUUxyqFh8Zs5apr5E1VejGoJvpl3w    2\n",
       "5dirbIPQQVzzN9kx0Fx6vxpGondZoOUO    2\n",
       "GgbnQgD7IlPuXZm52e3YfWsJK6MPtpsL    2\n",
       "zgD06sdtAKYb6zQPevh9FSTTu63Nsdh0    2\n",
       "3UruaYFH6frmqJqRvJnkfLvNc0btOj7H    2\n",
       "OS0sUJ9UZK6dupL74kX4EEWM0k4c2Kzv    2\n",
       "pajhVTlzWaL03Ey69RQJoGxeon9WwsbM    2\n",
       "4RBX7vu9A0inXgUiTy6i8GWRwyDY6Hiq    2\n",
       "XAJSmThn8XAxpgmNLuUqPHiLzH7Fcsju    2\n",
       "n30sCQy2hxP4V79rbOTCoD7cHc7Rknms    2\n",
       "LU9s55Z4Z0NlDWOaa6DraGvmO5FySHwU    2\n",
       "wojF0MBBQMITt3g3BE8z7becDHBWRmwb    2\n",
       "ohOelc0x7gSlKp8yKUljlJXJ31UruIas    2\n",
       "XH3sRrraiEcsj0atiJHkWK4cRY8mtnTp    2\n",
       "feWadOVsZuioCtsO3KPByYCxHoUmXqKk    2\n",
       "dd3sTxjiy6yIXG0llKROBc7O8OjhVALq    2\n",
       "mAaXslPg9MA0XahZqusrZwfKSKbgLiMV    2\n",
       "lMDg9QCfNXp6t8d3UlVmMf6g1dz4nLtQ    2\n",
       "R5lo3RZMXJ9Oxe39CAHxIYxX5mo1zRe7    2\n",
       "Q0XquItLBs6KcFtX6KwlvpwGkpH5iiaC    2\n",
       "bHsHB8fyQBVtQuG1NUvKXCY5L4kZxe1v    2\n",
       "LkpAz96sU0Fm2ynfnb8Ob6CSV57fQX57    2\n",
       "3hMrd0mPNTLS5VvsU8OGamuhZrmY8bbz    2\n",
       "                                   ..\n",
       "05OKPKawpDejpprCApY7wfyeuEfswCms    1\n",
       "2xoUexs8vAsCj2rLd2JaLRQh1G0XgfWN    1\n",
       "FQVKAeYy11Y7MpBUSY49ShFtPzRp21ud    1\n",
       "K7Hz0SVmxVLwxKvfo3KdFxLruTx6oJVF    1\n",
       "cHpW4UvEnrujmNgBx44V8P2SZv6EM0pa    1\n",
       "7eVfrf0QTLhdynh57i3SQ2o7HvzahQiq    1\n",
       "mJGdRysrycjQEfwUYhQ6nmbEVRWDvmgc    1\n",
       "OYRYE4Y8mn4mj6XsbontjQVn7b4zFiR2    1\n",
       "oCAnOsb4SeeB7HRsx38R4P0bfTYJStLt    1\n",
       "6dPszyJKDiNC2bGpZJM3w7VdE8hGaTeN    1\n",
       "dpzikwkzfl6eMSt0JA9XMiek01i1EK3S    1\n",
       "ySSHFOZh4iSPlEPWXT18grMGy9GeNPUD    1\n",
       "sbPIuMf7JIEw61YhZRGw7GozKmI3TeyQ    1\n",
       "DLFC4m3lAJJxcjiKmpSlzqsK2DZ1boaa    1\n",
       "45ucAEyYrU8smUcddr4J3Jqyv99x0DUi    1\n",
       "T0cn2YRrsGPpxIkSYKPwKmJbvoU50nwM    1\n",
       "fWla4gmGRJkvc6SGFmsUlFzXZRnfpAOL    1\n",
       "cqUkFGaMqP9zpX9hgdAHt5cAMQ0gjR6G    1\n",
       "BCoLLzFd4otFt1wNhqbKUsK5eeNzazhB    1\n",
       "w0FZPmy3SlSZfNvEdUkZ5ICya2jA1apR    1\n",
       "cb72FqqaNgyJUsjGxaB1eRaKBeKMhoUh    1\n",
       "RHelexxJitYRlh7TVEArPcJe1StoIvKC    1\n",
       "febKnGcDrsvOqdtAmgEmA13P4bYBQjNS    1\n",
       "iRydB9pFUvQTsgq47ugnfdZuND63D5DW    1\n",
       "z93d0WGfwXUjyGfhqGL1xjYgg8nlefM9    1\n",
       "whwN0WfDItrEEjUlXRW4UyIyIHbgNSRr    1\n",
       "6XCc2ZZASWng5rtFmSeOr6fHEwEdLBsa    1\n",
       "3oKdbnfOxeGz6qHYZ1R2cCF2RaVHU0b5    1\n",
       "jLKD4Hs2JAo3GlLbTRFN4CBRqUN6N6pD    1\n",
       "PqikjDKoi4LlCl1TApyWGtuK3sSBPFPD    1\n",
       "Name: module_id, dtype: int64"
      ]
     },
     "execution_count": 7,
     "metadata": {},
     "output_type": "execute_result"
    }
   ],
   "source": [
    "data['module_id'].value_counts()"
   ]
  },
  {
   "cell_type": "code",
   "execution_count": 8,
   "metadata": {
    "collapsed": false
   },
   "outputs": [
    {
     "data": {
      "text/plain": [
       "vertical             9823\n",
       "problem              5135\n",
       "video                5051\n",
       "sequential           3551\n",
       "discussion           1738\n",
       "html                  966\n",
       "chapter               547\n",
       "about                 125\n",
       "outlink                85\n",
       "course_info            78\n",
       "static_tab             67\n",
       "course                 39\n",
       "combinedopenended      18\n",
       "peergrading            15\n",
       "dictation              11\n",
       "Name: category, dtype: int64"
      ]
     },
     "execution_count": 8,
     "metadata": {},
     "output_type": "execute_result"
    }
   ],
   "source": [
    "data['category'].value_counts()"
   ]
  },
  {
   "cell_type": "code",
   "execution_count": 9,
   "metadata": {
    "collapsed": false
   },
   "outputs": [
    {
     "data": {
      "text/plain": [
       "r95kaM987yIVnvxfCCZe4a8s8TlyXD17 6zyj7ZmdeIIXzTGTahJaMI0T4dSnNF3W                                                                                                                                                                                                                                                                                                                                                                                                                                                                                                                                                                                                                                                                                                                                                                                                                                                                                                                                                                                                                                                                                                                                                                                                                                                                                                                                            2\n",
       "syXl2pFAW8x7YTzDMUG4eTC3hQXbnHcq                                                                                                                                                                                                                                                                                                                                                                                                                                                                                                                                                                                                                                                                                                                                                                                                                                                                                                                                                                                                                                                                                                                                                                                                                                                                                                                                                                             2\n",
       "Zw8yi6qFgHxY9TgkQUFm7Mi0hc04syEy                                                                                                                                                                                                                                                                                                                                                                                                                                                                                                                                                                                                                                                                                                                                                                                                                                                                                                                                                                                                                                                                                                                                                                                                                                                                                                                                                                             2\n",
       "J19yrn2oGT1is9et5AyadsKR8mV6Q9R9                                                                                                                                                                                                                                                                                                                                                                                                                                                                                                                                                                                                                                                                                                                                                                                                                                                                                                                                                                                                                                                                                                                                                                                                                                                                                                                                                                             2\n",
       "r4hgiLGP89OuflRb4TpIbooVd1RqcCMp                                                                                                                                                                                                                                                                                                                                                                                                                                                                                                                                                                                                                                                                                                                                                                                                                                                                                                                                                                                                                                                                                                                                                                                                                                                                                                                                                                             2\n",
       "qJSO4Wxx3LKD2IQcs5A4TthzUMOOPeft                                                                                                                                                                                                                                                                                                                                                                                                                                                                                                                                                                                                                                                                                                                                                                                                                                                                                                                                                                                                                                                                                                                                                                                                                                                                                                                                                                             2\n",
       "bHkA6k0sk7wsFeKw0zhcpEHMvlVsHw6X                                                                                                                                                                                                                                                                                                                                                                                                                                                                                                                                                                                                                                                                                                                                                                                                                                                                                                                                                                                                                                                                                                                                                                                                                                                                                                                                                                             2\n",
       "vyEG8eL72wdcJSGTCiuAqJMKyKPDA54T n29f4y5WgCIYgYIWmYkvxkVroa8XZCcN                                                                                                                                                                                                                                                                                                                                                                                                                                                                                                                                                                                                                                                                                                                                                                                                                                                                                                                                                                                                                                                                                                                                                                                                                                                                                                                                            2\n",
       "o1XEjr7gwBerZZjZY2wNym0sEYEUadma                                                                                                                                                                                                                                                                                                                                                                                                                                                                                                                                                                                                                                                                                                                                                                                                                                                                                                                                                                                                                                                                                                                                                                                                                                                                                                                                                                             2\n",
       "OelWIDCouqBPfz1c3hqRciZQFQyVhmb7                                                                                                                                                                                                                                                                                                                                                                                                                                                                                                                                                                                                                                                                                                                                                                                                                                                                                                                                                                                                                                                                                                                                                                                                                                                                                                                                                                             2\n",
       "ZYs7FzXvBV5FtMqVm2CMCiVxteHjBFJ6 eoAeU6H6QO1WqkRVCBLEhGvrbXFsnUlX FX63fC7BY8f6jzuL9rw4l28KghwyK9U8 tnKwuika79ISwKqb10VA6WrzTnrEjaEo EZdAQbHEAydo1SZUdc5oaw8s1bRjRzHA G1CypTUmFbGXHqROYqFESSzkodAnrNZO 3FjGu8I7yJi0eHXkfMuyWNQvW8cL46PP 6NJExQOLlCQ2hD49B3M3mtp1TdSvvkBT r3LYvYSMAae7V1hrOCYav5uKpDqnb4aT BRSBxPLUJNLeokQq8kyMynbZdvAjwYu8 eJV3HHhrQvwvwLqmCe0aSi0JoNuFH67Z                                                                                                                                                                                                                                                                                                                                                                                                                                                                                                                                                                                                                                                                                                                                                                                                                                                                                                                                                                                                                                   2\n",
       "Eh4aIVorfJEUqs7HABf81lLmUbGhlmFP NQ8uj1K2jH9OkKkjDzCr2YM67Ytas8QG                                                                                                                                                                                                                                                                                                                                                                                                                                                                                                                                                                                                                                                                                                                                                                                                                                                                                                                                                                                                                                                                                                                                                                                                                                                                                                                                            2\n",
       "MtJFLC2MfN0y6Ctd7JjK5BORADcS4F8r                                                                                                                                                                                                                                                                                                                                                                                                                                                                                                                                                                                                                                                                                                                                                                                                                                                                                                                                                                                                                                                                                                                                                                                                                                                                                                                                                                             2\n",
       "Vm0KRwTbwJSBmOHUqo1TRcwMb1JSp4Ie                                                                                                                                                                                                                                                                                                                                                                                                                                                                                                                                                                                                                                                                                                                                                                                                                                                                                                                                                                                                                                                                                                                                                                                                                                                                                                                                                                             2\n",
       "uJXCSWLUrd14333i5uifUYcthjINFwqy fcVJXK7m8iE8za4YAap49gtu86jOwQtc PFtzi3QRAbgg6Gd4fsxRLZLgZdpQKe9L QcO5cKKUyOYsNzsQUHMYpVT5Z7XKhvQx                                                                                                                                                                                                                                                                                                                                                                                                                                                                                                                                                                                                                                                                                                                                                                                                                                                                                                                                                                                                                                                                                                                                                                                                                                                                          2\n",
       "1pkfqGm9yUfSHpbLHf5p5Um57THmKI9g                                                                                                                                                                                                                                                                                                                                                                                                                                                                                                                                                                                                                                                                                                                                                                                                                                                                                                                                                                                                                                                                                                                                                                                                                                                                                                                                                                             2\n",
       "Kc8kCPhF6SbhBLVPAX29mXUuV6Vn6oub                                                                                                                                                                                                                                                                                                                                                                                                                                                                                                                                                                                                                                                                                                                                                                                                                                                                                                                                                                                                                                                                                                                                                                                                                                                                                                                                                                             2\n",
       "Mdyl0c3TAvKM1h1pypVFy5v8yvYpf11O                                                                                                                                                                                                                                                                                                                                                                                                                                                                                                                                                                                                                                                                                                                                                                                                                                                                                                                                                                                                                                                                                                                                                                                                                                                                                                                                                                             2\n",
       "ttVdOhEQECLBmT7ZCYntDDqU0qRxUpdW 5G4VR6BSIvE4NEYIVUhvrZDho9knV1zq                                                                                                                                                                                                                                                                                                                                                                                                                                                                                                                                                                                                                                                                                                                                                                                                                                                                                                                                                                                                                                                                                                                                                                                                                                                                                                                                            2\n",
       "6WMR5XdgADTubVKzAyhTGu2sGi25wq99                                                                                                                                                                                                                                                                                                                                                                                                                                                                                                                                                                                                                                                                                                                                                                                                                                                                                                                                                                                                                                                                                                                                                                                                                                                                                                                                                                             2\n",
       "0cJQnYyB4g7yKlKmmqsABKZxUFvfFoYp                                                                                                                                                                                                                                                                                                                                                                                                                                                                                                                                                                                                                                                                                                                                                                                                                                                                                                                                                                                                                                                                                                                                                                                                                                                                                                                                                                             2\n",
       "7tRxgXPY2eYk1L46ZYMafhapbfXVj4r3                                                                                                                                                                                                                                                                                                                                                                                                                                                                                                                                                                                                                                                                                                                                                                                                                                                                                                                                                                                                                                                                                                                                                                                                                                                                                                                                                                             2\n",
       "ZpSCPZQ2ihfLU1ik8mQK1QlTyDW31CZ7                                                                                                                                                                                                                                                                                                                                                                                                                                                                                                                                                                                                                                                                                                                                                                                                                                                                                                                                                                                                                                                                                                                                                                                                                                                                                                                                                                             2\n",
       "aasN2ilqi2fw2JEbzpmUKGRuh7MyQKEF                                                                                                                                                                                                                                                                                                                                                                                                                                                                                                                                                                                                                                                                                                                                                                                                                                                                                                                                                                                                                                                                                                                                                                                                                                                                                                                                                                             2\n",
       "LYfXgiakOodzSqkCF2pELlYMTN4rQO4C                                                                                                                                                                                                                                                                                                                                                                                                                                                                                                                                                                                                                                                                                                                                                                                                                                                                                                                                                                                                                                                                                                                                                                                                                                                                                                                                                                             2\n",
       "7almEVc9xepuKJAIishE0okyxprMV9dL umbciTnTWRbSuz8dD5tDCx31VdRyPExL 3H50aJBVolnb2nmUjiA43Go3etyqzP3x PvSmPLoDrhq7xxL4cL4BTF2Nkg3LpJJ0 Wk0HeULf4b8iRtOS8Ej4KbdXOygkG09p cKYDwC9hxMsJ4fM6P36OLnld0CYKjLjD 80FmUbc5kLprioroHwXa4WhtV8L4hiBL trbzELfMk3Cl4G6FrDZULq9NqhAdarSw f4bnuODrdLbAHNDhNl48K4esVukyXUeS cxuYEGez6cQbCPmPSFBZCor0f9VrikEx HnqdVvLgtf0ZDaIEX9MuDEICSYxXjDzJ                                                                                                                                                                                                                                                                                                                                                                                                                                                                                                                                                                                                                                                                                                                                                                                                                                                                                                                                                                                                                                   2\n",
       "lxK03J8z9ah3v0zpGLcmaYj0P0WQ1FXR                                                                                                                                                                                                                                                                                                                                                                                                                                                                                                                                                                                                                                                                                                                                                                                                                                                                                                                                                                                                                                                                                                                                                                                                                                                                                                                                                                             2\n",
       "TTuilitnC1VAXz5h1Yf6PTGXydsQ9AST tFt1GDS84u7vSOBOghTNCUX4Tfk9g18n                                                                                                                                                                                                                                                                                                                                                                                                                                                                                                                                                                                                                                                                                                                                                                                                                                                                                                                                                                                                                                                                                                                                                                                                                                                                                                                                            2\n",
       "pizpjlMJgIgWD22bmM8M57Ui7kjuakGf                                                                                                                                                                                                                                                                                                                                                                                                                                                                                                                                                                                                                                                                                                                                                                                                                                                                                                                                                                                                                                                                                                                                                                                                                                                                                                                                                                             2\n",
       "aqVvwYehDR1qxnffOmw3q4WXMVXZnsn6 HLhNOrIKjPNBszEGGMFf7W9fdTOvWyFS cs3oMQkCnqJbUwC7b24jipq5CdGQT62c                                                                                                                                                                                                                                                                                                                                                                                                                                                                                                                                                                                                                                                                                                                                                                                                                                                                                                                                                                                                                                                                                                                                                                                                                                                                                                           2\n",
       "                                                                                                                                                                                                                                                                                                                                                                                                                                                                                                                                                                                                                                                                                                                                                                                                                                                                                                                                                                                                                                                                                                                                                                                                                                                                                                                                                                                                            ..\n",
       "bp9hOpSJSacYxJuxLyls6On47OEqyQk7                                                                                                                                                                                                                                                                                                                                                                                                                                                                                                                                                                                                                                                                                                                                                                                                                                                                                                                                                                                                                                                                                                                                                                                                                                                                                                                                                                             1\n",
       "YaHFhHVZMqIzHGds4v4YcuUI9Q0eDlYf tpbEKG29ff30EGFKO0xu8O2HkzHXHcxq f1fBL0DTNz7NcXbDZ74D7Xk3DmYPGP56 vVa5B0bGRybcA8bKwiXFlW0p2ieHR1HX 1G2Dv3zZtExTQpfdHlv9e2UCGjGHKY4z                                                                                                                                                                                                                                                                                                                                                                                                                                                                                                                                                                                                                                                                                                                                                                                                                                                                                                                                                                                                                                                                                                                                                                                                                                         1\n",
       "VYWyjpTFYvC5GoppUPqNsr8Jx9OI5x7L                                                                                                                                                                                                                                                                                                                                                                                                                                                                                                                                                                                                                                                                                                                                                                                                                                                                                                                                                                                                                                                                                                                                                                                                                                                                                                                                                                             1\n",
       "KiOPsltWWpc5oGYuBjJqBO5H4fDJvbua                                                                                                                                                                                                                                                                                                                                                                                                                                                                                                                                                                                                                                                                                                                                                                                                                                                                                                                                                                                                                                                                                                                                                                                                                                                                                                                                                                             1\n",
       "JNL1VTlChETytfXW6AhVzd8Hyq5W44ID                                                                                                                                                                                                                                                                                                                                                                                                                                                                                                                                                                                                                                                                                                                                                                                                                                                                                                                                                                                                                                                                                                                                                                                                                                                                                                                                                                             1\n",
       "RaHUA5xMq9E8UvLGF7Dx0L6aWgcH02GH                                                                                                                                                                                                                                                                                                                                                                                                                                                                                                                                                                                                                                                                                                                                                                                                                                                                                                                                                                                                                                                                                                                                                                                                                                                                                                                                                                             1\n",
       "4Mu8fB4jA32UJ01KsD2ChzOZBtR8sjud                                                                                                                                                                                                                                                                                                                                                                                                                                                                                                                                                                                                                                                                                                                                                                                                                                                                                                                                                                                                                                                                                                                                                                                                                                                                                                                                                                             1\n",
       "OxPeJavXjrX0pFd0oAVDZQKMCVYdxXeQ                                                                                                                                                                                                                                                                                                                                                                                                                                                                                                                                                                                                                                                                                                                                                                                                                                                                                                                                                                                                                                                                                                                                                                                                                                                                                                                                                                             1\n",
       "xek9GWT6A5RkmwrwgiLAJLC4VJzvQPJQ                                                                                                                                                                                                                                                                                                                                                                                                                                                                                                                                                                                                                                                                                                                                                                                                                                                                                                                                                                                                                                                                                                                                                                                                                                                                                                                                                                             1\n",
       "WcZjgNhgKKdAEnnS9WjXPMTrg8xMsH0j                                                                                                                                                                                                                                                                                                                                                                                                                                                                                                                                                                                                                                                                                                                                                                                                                                                                                                                                                                                                                                                                                                                                                                                                                                                                                                                                                                             1\n",
       "bF8S1xMXMYAXw9EvMtn0xSWMYIfqDfdA Db2gy1HKRPCVNZf9QPNZGKCKh6PUfzwP 4z03GniGZRDJLGqe3w6woHn65JvBywVx                                                                                                                                                                                                                                                                                                                                                                                                                                                                                                                                                                                                                                                                                                                                                                                                                                                                                                                                                                                                                                                                                                                                                                                                                                                                                                           1\n",
       "NkeAtfLyxKNA8CtetKl0otmAfDKgvLQh 65wxebmiAuP7uaGlABcF0BRYd68gF4UO HQirueVtV72GxiRPbBB4ZD32MquvNryu                                                                                                                                                                                                                                                                                                                                                                                                                                                                                                                                                                                                                                                                                                                                                                                                                                                                                                                                                                                                                                                                                                                                                                                                                                                                                                           1\n",
       "Ci3BaRaZ4tFMRTDvKUNrw0YNRX4R9tQD VsGR8qVTtXXHk4uvVnVSUJKhKjqy850y                                                                                                                                                                                                                                                                                                                                                                                                                                                                                                                                                                                                                                                                                                                                                                                                                                                                                                                                                                                                                                                                                                                                                                                                                                                                                                                                            1\n",
       "Y2wXKFkRRHSK4SxVYyYUvLqf51LbfpX4                                                                                                                                                                                                                                                                                                                                                                                                                                                                                                                                                                                                                                                                                                                                                                                                                                                                                                                                                                                                                                                                                                                                                                                                                                                                                                                                                                             1\n",
       "89v7zLVGlHtMtpeE56Ed9sDqZGTUJPUL                                                                                                                                                                                                                                                                                                                                                                                                                                                                                                                                                                                                                                                                                                                                                                                                                                                                                                                                                                                                                                                                                                                                                                                                                                                                                                                                                                             1\n",
       "gAreipXbRelooUikMXoQGF7lfQl6uB4H                                                                                                                                                                                                                                                                                                                                                                                                                                                                                                                                                                                                                                                                                                                                                                                                                                                                                                                                                                                                                                                                                                                                                                                                                                                                                                                                                                             1\n",
       "FBvjFlAErDUQfk58nWmIENoFKLf89Ut9 qGIp0IWW7RAGXe956g8zpffjEivc6I5S jfv7diAEckXfJU3upR2Ag5ugwhh0okNI 44xefUIuOLVCVV06ZLEtqpFoEbKRycip 7Z1naERTJJtwUFCIHqHIxyEeGm3NiVex jLKD4Hs2JAo3GlLbTRFN4CBRqUN6N6pD SJDGLZLn7KXCvvDMJuaFFQYL3i1olCgD                                                                                                                                                                                                                                                                                                                                                                                                                                                                                                                                                                                                                                                                                                                                                                                                                                                                                                                                                                                                                                                                                                                                                                       1\n",
       "qVDehnuv02TfY5DoLcrHBkjPZtVtr4g5 cvrK107xEGz5fuBgUhGvJLlsFo621YJl Cruwfk5QucwpkKJG9RrilcxiqGnzIufM UDlwRL30yiAo3PXIoDquJ8XObJkIGpuR ibcP1qaucXXIs7BPiNQsOpy3MUSJNFWD jKimtRBJkdejSULKMGJQukq3xHc7p5gE c3SKZL9th8iVku0G4VUQSH0l3g9mXqNx HGuBK7QzaLVR1ReyBZ489weXnG0xRhxz dvfUUBinaj7glkZJ7LQSN1EEZtutfdRg KTGga5ZxcO50I1ZNaSejz9MwILFooS5g EGVXCiq7LZtjXpffO2cwWjmP2AUXqeVI tx0Id97F4lp8BVNKENq35xaTKhDgDarh                                                                                                                                                                                                                                                                                                                                                                                                                                                                                                                                                                                                                                                                                                                                                                                                                                                                                                                                                                                                  1\n",
       "NkKhESWLld4wI8t2KFYbP9vse1xc9EZJ                                                                                                                                                                                                                                                                                                                                                                                                                                                                                                                                                                                                                                                                                                                                                                                                                                                                                                                                                                                                                                                                                                                                                                                                                                                                                                                                                                             1\n",
       "KefPPZx0Do9UbMVn9oCLOZMZC22UyWZi SsL4Yq83NMo20lI72YbmdyUTXmkHQPGI PJwVfX9njL2tl3MP1MflWbD7lCV2iz2M KzslxTookjuPOh6bN8Mp7x10CbevjxSX 7G8lECtsjmuZG51PQ7oIBeyYspSU2Ddn wsuLQVBWqzokoOsYlBwsuGJ2g6GcSuhN cXDr0HrXam8L1tnCe9EhuGCtHF2QgWA7 8ALGyiwPnSAbdd7dyKKCv1b88mz29v4N RFHkFz7m0Fyq0x162cL7RrUxkLkQbAot                                                                                                                                                                                                                                                                                                                                                                                                                                                                                                                                                                                                                                                                                                                                                                                                                                                                                                                                                                                                                                                                                                     1\n",
       "REde0shWrMVLLEC1vWA5RbdmP8nq5dbS                                                                                                                                                                                                                                                                                                                                                                                                                                                                                                                                                                                                                                                                                                                                                                                                                                                                                                                                                                                                                                                                                                                                                                                                                                                                                                                                                                             1\n",
       "dBm89j5DrOzlghzqJCp0etTXRnxscdES WuxIj1oeCeIANj4wFrZ8gpOD8HSk7Xfh IdASbCXjxl1UNEp2EtMws8OVh3Wkzcm6 yFpkXMOpQz1KGkOvhyIDFnIQAYX9VUEh z9Pmdmhw6Z4rKukbid6mXnnU5VNi0KM8 eo8LJTN51ZmlTRH8tC73uPbHGurAmArQ zW1rHTwNV4xA3m9xrcbQUwD02y4fYwXC SyzfnlyxzechKoejZw50I9F6ZbuuDnsT 0y1JoX1rKjRHN7SP0P4j1QR7aA3KnOQO oTkmCAltvjrbea98E9GMfdHKNR9gzRhS kR5O2rMtVnNtQq0swWiQYMGZODUT6bUa 4HgSP7dz8Lw4EGo1yJG83OBXXRB7YgRY o5WthscpY3HVnYlCsyHYexm3pIWLRs5q GCFDY24Z3SxueIbOGCx1fd1UWprO7OwK Vw3gE1ciWjwBflv4TjtQx03PDu2qZND1 xGN9ULjuU6LcCBLFSozRjiC2iat59X7O iu5oAbuxjnbWyeYZksFsP1y3GpIN4H2P ITRnxeqZLY9j01Z0CdxT8Hswsk7lNFL1 unQbXd8Nn5Ta2Qm12JAFNtMiZKajlvTC n9MbLXwceRm9X5kaMQIBXzvEmWcC7SR1 XMhhN4yWe12VgKDMMPw2Px4FdKgeOeAE DVMDEaucQxNn8ikzfXEIsBa7JAVWkak7 YeWLfJErY47i3QfnR9q8z1izwwhP3BVD jhIfoGWZewEaUpgK8CouKZdlQcixDocA rK7Ak7GEOLMZQegbVSLFAlEDdF9gBxJY GWkOHTiUwW9hIfsMs8cu3YW4A0N9Y2Qv y7bxGMe2mbRTnTP3WSLoPAQZwnyGJ0bT Vo1xgNTVhcVxb0UMtuuR5oAV5jGRDFBI vmYNncb0050tmAGb0m25CMQ6Uk4UzkYj CfVTMXAc5MWFkLzgRGLc8b5jhV5LUtS9 l2MsZ5LFXzwJigwh2b45pEeOQrwrda8O PwF4dlQHP8qa3uFRusYwN10af4qkZUif ocaUoaGBP6QRobz6KHZ9XmMGrx7CjzbJ ZnzjwT9NWDuT28uoT6lEifYgTfkYRmfA uXqjpEOgtKUw3D1Wt637e488r730Ry0d MT0e6QPvPdsonbEkLLcztPTRrJMGTPwg 1VpC478VvbLzXKilxkYVqKlEblG5pPbn abNGgJki3DsOAMM48o8ZNRMTn0AU7Zw5 TnLURHow3pwFpRq8rSuxKK6RCkL3lArD iECsZX5roNmTjrsRZXvRfJszH6oHd1nx zx84iAd5DaIgVx0CmDuVfnLJbzAvYrra     1\n",
       "dawNijVixnVJqNB3uzdVhRNj83RuhT2S dDBMK7tce9fzKMiICYjB61lJXhs83OV3 qxGDaFktDYkGv1gxhqj3cQUBjARSVBf2 1gKlp2DxKmruLHTmGW5QyblfqAeoGKPC notTm1nr7CGtxyk7MckdY2aPhfpiJIq0                                                                                                                                                                                                                                                                                                                                                                                                                                                                                                                                                                                                                                                                                                                                                                                                                                                                                                                                                                                                                                                                                                                                                                                                                                         1\n",
       "rGYANedBZiERlIQjPc5zoxO5rOMnZgQY                                                                                                                                                                                                                                                                                                                                                                                                                                                                                                                                                                                                                                                                                                                                                                                                                                                                                                                                                                                                                                                                                                                                                                                                                                                                                                                                                                             1\n",
       "0iPmlOf6IpsVlxWqD6oebjg8W2yprEKt                                                                                                                                                                                                                                                                                                                                                                                                                                                                                                                                                                                                                                                                                                                                                                                                                                                                                                                                                                                                                                                                                                                                                                                                                                                                                                                                                                             1\n",
       "PrUUwyoG589YMJ4cTkvxAZGu1ItqIo4k BCFYemSlfYwC4nvWOEkZPVLuSoCWAwhF 1UfpaJyzevBFPhXnpkPKbKJFfsOAovPM 88656Wr7d846YYNQVy6F0cgDA1Sb38hp                                                                                                                                                                                                                                                                                                                                                                                                                                                                                                                                                                                                                                                                                                                                                                                                                                                                                                                                                                                                                                                                                                                                                                                                                                                                          1\n",
       "QkXN63HK8MdFmuZViqOl2Nrb23DuRyUt                                                                                                                                                                                                                                                                                                                                                                                                                                                                                                                                                                                                                                                                                                                                                                                                                                                                                                                                                                                                                                                                                                                                                                                                                                                                                                                                                                             1\n",
       "XR0MJ4bqtaMcHSn882uPB6EIDcsbabJA                                                                                                                                                                                                                                                                                                                                                                                                                                                                                                                                                                                                                                                                                                                                                                                                                                                                                                                                                                                                                                                                                                                                                                                                                                                                                                                                                                             1\n",
       "ljtfEmWoCfirTQ1KbQh3tXCHRdk7ZqRX jx1WFbbFeXOSksqc56bHXmFC655vZOVP 4o9FHJFZ8TaeTsg79UadXJJB4tYMg9LH O8VeS7WodHL5UgjHbSyRHQfkMmyXhuyD Z6gQE5Gyn6aozS7qJTZpO1pPLiZ7tSSZ Wf7G9agOatps36fHICEQngGF15Br2iQr e1mINTrsElP9RlmYfEg0DrNWpQ4lcZUB                                                                                                                                                                                                                                                                                                                                                                                                                                                                                                                                                                                                                                                                                                                                                                                                                                                                                                                                                                                                                                                                                                                                                                       1\n",
       "e4xBITUgfMwXWwfVyzdppz61HQ6IL5hU                                                                                                                                                                                                                                                                                                                                                                                                                                                                                                                                                                                                                                                                                                                                                                                                                                                                                                                                                                                                                                                                                                                                                                                                                                                                                                                                                                             1\n",
       "Name: children, dtype: int64"
      ]
     },
     "execution_count": 9,
     "metadata": {},
     "output_type": "execute_result"
    }
   ],
   "source": [
    "data['children'].value_counts()"
   ]
  },
  {
   "cell_type": "code",
   "execution_count": 10,
   "metadata": {
    "collapsed": false
   },
   "outputs": [
    {
     "data": {
      "text/plain": [
       "null                   985\n",
       "2014-06-16T01:00:00    544\n",
       "2014-06-23T01:00:00    516\n",
       "2014-06-02T01:00:00    510\n",
       "2014-06-30T01:00:00    463\n",
       "2014-07-07T01:00:00    461\n",
       "2014-08-11T01:00:00    443\n",
       "2014-08-04T01:00:00    442\n",
       "2014-07-28T01:00:00    437\n",
       "2014-05-25T16:00:00    421\n",
       "2014-08-18T01:00:00    400\n",
       "2014-06-09T01:00:00    390\n",
       "2014-07-14T01:00:00    388\n",
       "2014-07-21T01:00:00    383\n",
       "2014-05-26T01:00:00    291\n",
       "2014-08-25T01:00:00    284\n",
       "2014-06-15T16:00:00    229\n",
       "2014-09-01T01:00:00    225\n",
       "2013-12-17T00:00:00    219\n",
       "2013-10-27T16:00:00    209\n",
       "2014-08-03T16:00:00    206\n",
       "2014-06-18T01:00:00    186\n",
       "2014-06-11T01:00:00    183\n",
       "2014-07-02T01:00:00    178\n",
       "2014-07-09T01:00:00    177\n",
       "2014-06-25T01:00:00    174\n",
       "2014-07-20T16:00:00    173\n",
       "2014-07-13T16:00:00    170\n",
       "2014-05-29T01:00:00    166\n",
       "2014-01-06T01:00:00    164\n",
       "                      ... \n",
       "2014-01-02T13:30:00      3\n",
       "2014-08-23T00:00:00      3\n",
       "2014-07-12T00:00:00      3\n",
       "2014-09-22T02:00:00      3\n",
       "2014-02-08T16:00:00      3\n",
       "2014-02-10T16:00:00      3\n",
       "2014-10-01T17:00:00      3\n",
       "2013-08-17T00:00:00      3\n",
       "2014-08-20T13:30:00      3\n",
       "2014-10-13T00:00:00      3\n",
       "2014-03-28T01:00:00      3\n",
       "2014-07-26T00:00:00      3\n",
       "2014-08-16T00:30:00      3\n",
       "2014-02-06T01:30:00      3\n",
       "2014-04-03T01:00:00      3\n",
       "2014-08-15T04:00:00      3\n",
       "2015-06-13T01:00:00      3\n",
       "2014-06-27T16:00:00      3\n",
       "2014-08-09T00:00:00      3\n",
       "2013-08-26T00:00:00      3\n",
       "2014-01-16T16:00:00      3\n",
       "2014-04-11T00:00:00      2\n",
       "2014-05-19T00:00:00      1\n",
       "2013-11-11T01:00:00      1\n",
       "2013-11-25T01:00:00      1\n",
       "2015-05-19T01:00:00      1\n",
       "2013-11-01T00:00:00      1\n",
       "2013-10-30T16:30:00      1\n",
       "2013-12-11T01:00:00      1\n",
       "2014-03-27T01:00:00      1\n",
       "Name: start, dtype: int64"
      ]
     },
     "execution_count": 10,
     "metadata": {},
     "output_type": "execute_result"
    }
   ],
   "source": [
    "data['start'].value_counts()"
   ]
  },
  {
   "cell_type": "code",
   "execution_count": null,
   "metadata": {
    "collapsed": true
   },
   "outputs": [],
   "source": []
  }
 ],
 "metadata": {
  "kernelspec": {
   "display_name": "Python 3",
   "language": "python",
   "name": "python3"
  },
  "language_info": {
   "codemirror_mode": {
    "name": "ipython",
    "version": 3
   },
   "file_extension": ".py",
   "mimetype": "text/x-python",
   "name": "python",
   "nbconvert_exporter": "python",
   "pygments_lexer": "ipython3",
   "version": "3.5.0"
  }
 },
 "nbformat": 4,
 "nbformat_minor": 0
}
