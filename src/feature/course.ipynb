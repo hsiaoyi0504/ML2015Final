{
 "cells": [
  {
   "cell_type": "code",
   "execution_count": 4,
   "metadata": {
    "collapsed": true
   },
   "outputs": [],
   "source": [
    "import pandas\n",
    "import numpy as np"
   ]
  },
  {
   "cell_type": "code",
   "execution_count": 5,
   "metadata": {
    "collapsed": true
   },
   "outputs": [],
   "source": [
    "data=pandas.read_csv(\"../../data/ML_final_project/object.csv\")"
   ]
  },
  {
   "cell_type": "code",
   "execution_count": 15,
   "metadata": {
    "collapsed": false
   },
   "outputs": [],
   "source": [
    "data2=data['course_id'].value_counts()"
   ]
  },
  {
   "cell_type": "code",
   "execution_count": 16,
   "metadata": {
    "collapsed": false
   },
   "outputs": [
    {
     "name": "stdout",
     "output_type": "stream",
     "text": [
      "shM3Yy9vxHn2aqjSYfQXOcwGo0hWh3MI    2113\n",
      "9Bd26pfDLvkPINwLnpaGcf0LrLUvY1Mz    1983\n",
      "Wm3dddHSynJ76EJV6hyLYKGGRL0JF3YK    1356\n",
      "HbeAZjZFFQUe90oTP0RRO0PEtRAqU3kK    1312\n",
      "nSfGxfEtzw5G72fVbfaowxsV46Pg1xIc    1151\n",
      "tXbz2ZYaRyb2ZsWUBPoYzAmisOhHQrYl    1104\n",
      "WM572q68zD5VW8pcvVTc1RhhFUq3iRFN    1050\n",
      "q6A6QG7qMpyNcznyT2XaIxnfNGkZRxXl     999\n",
      "G8EPVSXsOYB5YQWZGiz1aVq5Pgr2GrQu     989\n",
      "5X6FeZozNMgE2VRi3MJYjkkFK8SETtu2     980\n",
      "V4tXq15GxHo2gaMpaJLZ3IGEkP949IbE     800\n",
      "a2E7NQC7nZB7WHEhKGhKnKvUWtsLAQzh     787\n",
      "3cnZpv6ReApmCaZyaQwi2izDZxVRdC01     743\n",
      "A3fsA9Zfv1X2fVEQhTw51lKENdNrEqT3     740\n",
      "mTmmr5zd8l4wXhwiULwjSmSbi9ktcFmV     739\n",
      "7GRhBDsirIGkRZBtSMEzNTyDr2JQm4xx     734\n",
      "Er0RFawC4sHagDmmQZcBGBrzamLQcblZ     702\n",
      "RXDvfPUBYFlVdlueBFbLW0mhhAyGEqpt     659\n",
      "NmbZ3BmS8V4pMg6oxXHWpqqMZCE1jvYt     573\n",
      "xMd9DzNyUCTLRPVbwWVzf4vq06oqrTT1     523\n",
      "gvEwgd64UX4t3K7ftZwXiMkFuxFUAqQE     510\n",
      "5Gyp41oLVo7Gg7vF4vpmggWP5MU70QO6     498\n",
      "ykoe1cCWK134BJmfbNoPEenJOIWdtQOZ     495\n",
      "9zpXzW9zCfU8KGBWkhlsGH8B8czISH4J     474\n",
      "SpATywNh6bZuzm8s1ceuBUnMUAeoAHHw     467\n",
      "3VkHkmOtom3jM2wCu94xgzzu1d6Dn7or     406\n",
      "DPnLzkJJqOOPRJfBxIHbQEERiYHu5ila     398\n",
      "DABrJ6O4AotFwuAbfo1fuMj40VmMpPGX     395\n",
      "9Mq1P5hrrLw6Bh9X4W4ZjisQJDdxjz9x     387\n",
      "I7Go4XwWgpjRJM8EZGEnBpkfSmBNOlsO     381\n",
      "X78EhlW2JxwO1I6S3U4yZVwkEQpKXLOj     371\n",
      "H2lDW05SyKnwntZ6Fora76aPAEswcMa5     343\n",
      "bWdj2GDclj5ofokWjzoa5jAwMkxCykd6     338\n",
      "1pvLqtotBsKv7QSOsLicJDQMHx3lui6d     335\n",
      "TAYxxh39I2LZnftBpL0LfF2NxzrCKpkx     333\n",
      "KHPw0gmg1Ad3V07TqRpyBzA8mRjj7mkt     317\n",
      "AXUJZGmZ0xaYSWazu8RQ1G5c76ECT1Kd     274\n",
      "81UZtt1JJwBFYMj5u38WNKCSVA4IJSDv     269\n",
      "fbPkOYLVPtPgIt0MxizjfFJov3JbHyAi     221\n",
      "Name: course_id, dtype: int64\n"
     ]
    }
   ],
   "source": [
    "print(data2)"
   ]
  },
  {
   "cell_type": "code",
   "execution_count": 20,
   "metadata": {
    "collapsed": false
   },
   "outputs": [
    {
     "data": {
      "text/plain": [
       "dtype('int64')"
      ]
     },
     "execution_count": 20,
     "metadata": {},
     "output_type": "execute_result"
    }
   ],
   "source": [
    "data2.dtype"
   ]
  },
  {
   "cell_type": "code",
   "execution_count": null,
   "metadata": {
    "collapsed": true
   },
   "outputs": [],
   "source": []
  }
 ],
 "metadata": {
  "kernelspec": {
   "display_name": "Python 3",
   "language": "python",
   "name": "python3"
  },
  "language_info": {
   "codemirror_mode": {
    "name": "ipython",
    "version": 3
   },
   "file_extension": ".py",
   "mimetype": "text/x-python",
   "name": "python",
   "nbconvert_exporter": "python",
   "pygments_lexer": "ipython3",
   "version": "3.5.0"
  }
 },
 "nbformat": 4,
 "nbformat_minor": 0
}
