{
 "cells": [
  {
   "cell_type": "code",
   "execution_count": 134,
   "metadata": {
    "collapsed": true
   },
   "outputs": [],
   "source": [
    "import numpy as np\n",
    "import pandas as pd"
   ]
  },
  {
   "cell_type": "code",
   "execution_count": 135,
   "metadata": {
    "collapsed": false
   },
   "outputs": [],
   "source": [
    "def combine(path_sample,path_enrollment,path_result):\n",
    "    data=pd.read_csv(path_sample)\n",
    "    data2=pd.read_csv(\"../../data/course_lookup.csv\",index_col=0)\n",
    "    data3=pd.read_csv(path_enrollment)\n",
    "    course_id=data3[\"course_id\"].tolist()\n",
    "    column_names=list(data2.columns.values)\n",
    "    data4=[]\n",
    "    for i in range(len(course_id)):\n",
    "        data4.append(data2.loc[course_id[i]].values)\n",
    "    data4=np.reshape(data4,(len(course_id),-1))\n",
    "    data5=pd.DataFrame(data4,columns=column_names)\n",
    "    data6=pd.concat([data, data5], axis=1)\n",
    "    data6.to_csv(path_result,index=False)"
   ]
  },
  {
   "cell_type": "code",
   "execution_count": 136,
   "metadata": {
    "collapsed": false
   },
   "outputs": [],
   "source": [
    "path_prefix=\"../../data/ML_final_project/\"\n",
    "combine(path_prefix+\"sample_train_x.csv\",path_prefix+\"enrollment_train.csv\",\"../../data/combine_sample_and_course_train_x.csv\")\n",
    "combine(path_prefix+\"sample_test_x.csv\",path_prefix+\"enrollment_test.csv\",\"../../data/combine_sample_and_course_test_x.csv\")"
   ]
  }
 ],
 "metadata": {
  "kernelspec": {
   "display_name": "Python 3",
   "language": "python",
   "name": "python3"
  },
  "language_info": {
   "codemirror_mode": {
    "name": "ipython",
    "version": 3
   },
   "file_extension": ".py",
   "mimetype": "text/x-python",
   "name": "python",
   "nbconvert_exporter": "python",
   "pygments_lexer": "ipython3",
   "version": "3.5.0"
  }
 },
 "nbformat": 4,
 "nbformat_minor": 0
}
