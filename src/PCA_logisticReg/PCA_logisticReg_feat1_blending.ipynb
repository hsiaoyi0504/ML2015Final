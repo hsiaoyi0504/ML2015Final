{
 "cells": [
  {
   "cell_type": "code",
   "execution_count": 1,
   "metadata": {
    "collapsed": false
   },
   "outputs": [],
   "source": [
    "import numpy as np\n",
    "import random as rand\n",
    "from sklearn import linear_model, preprocessing\n",
    "from sklearn.decomposition import PCA\n",
    "from sklearn.cross_validation import KFold\n",
    "from scipy.io import loadmat, savemat"
   ]
  },
  {
   "cell_type": "code",
   "execution_count": 2,
   "metadata": {
    "collapsed": false
   },
   "outputs": [],
   "source": [
    "def E_abs(y_predict,y):\n",
    "    E=0\n",
    "    for i in range(len(y)):\n",
    "        E+=abs(y_predict[i]-y[i])\n",
    "    return E/len(y)\n",
    "\n",
    "def E_01(y_predict,y):\n",
    "    y_temp=[]\n",
    "    for i in range(len(y)):\n",
    "        if y_predict[i]>0.5:\n",
    "            y_temp.append(1)\n",
    "        elif y_predict[i]==0.5:\n",
    "            y_temp.append(rand.randint(0,1))\n",
    "        else:\n",
    "            y_temp.append(0)\n",
    "    return E_abs(y_temp,y)"
   ]
  },
  {
   "cell_type": "code",
   "execution_count": 3,
   "metadata": {
    "collapsed": false
   },
   "outputs": [],
   "source": [
    "feat=loadmat(\"../../data/feat1.mat\")"
   ]
  },
  {
   "cell_type": "code",
   "execution_count": 4,
   "metadata": {
    "collapsed": false
   },
   "outputs": [],
   "source": [
    "#read training features\n",
    "len_train=feat[\"len_train\"][0][0]\n",
    "x=np.concatenate((feat[\"x1_int\"],feat[\"x1_float\"]),axis=1)\n",
    "x=x[:len_train][:]\n",
    "dimensions=len(x[0])"
   ]
  },
  {
   "cell_type": "code",
   "execution_count": 5,
   "metadata": {
    "collapsed": false
   },
   "outputs": [],
   "source": [
    "#read training truth\n",
    "y=feat[\"y\"][:len_train]\n",
    "y=y[:,0]"
   ]
  },
  {
   "cell_type": "code",
   "execution_count": 6,
   "metadata": {
    "collapsed": false
   },
   "outputs": [],
   "source": [
    "#training\n",
    "n_folds=5\n",
    "iterations=10000\n",
    "c_list=list(range(-4,5))\n",
    "c_list[:]=[10 ** x for x in c_list]\n",
    "n_components_list=list(range(int(dimensions/4),int(dimensions/2)))\n",
    "count=0\n",
    "count_limit=300\n",
    "output=np.empty((feat[\"len\"][0][0]))\n",
    "for i in range(iterations):\n",
    "    Ein_01=0\n",
    "    Ein_abs=0\n",
    "    Eval_01=0\n",
    "    Eval_abs=0\n",
    "    sample_index=np.random.randint(len(x),size=len(x))\n",
    "    x_sample=x[sample_index,:]\n",
    "    y_sample=y[sample_index]\n",
    "    c=rand.choice(c_list)\n",
    "    n_components=rand.choice(n_components_list)\n",
    "    kf=KFold(len(x),n_folds=n_folds)\n",
    "    for train_index, val_index in kf:\n",
    "        x_train, x_val = x_sample[train_index], x_sample[val_index]\n",
    "        y_train, y_val = y_sample[train_index], y_sample[val_index]\n",
    "        pca = PCA(n_components=n_components)\n",
    "        pca.fit(x_train)\n",
    "        x_train_reduce = pca.transform(x_train)\n",
    "        logistic = linear_model.LogisticRegression(C=c)\n",
    "        logistic.fit(x_train_reduce,y_train)\n",
    "        y_train_predict = logistic.predict_proba(x_train_reduce)\n",
    "        y_train_predict = y_train_predict[:,1]\n",
    "        Ein_01+=E_01(y_train_predict,y_train)\n",
    "        Ein_abs+=E_abs(y_train_predict,y_train)\n",
    "        x_val_reduce = pca.transform(x_val)\n",
    "        y_val_predict = logistic.predict_proba(x_val_reduce)\n",
    "        y_val_predict = y_val_predict[:,1]\n",
    "        Eval_01+=E_01(y_val_predict,y_val)\n",
    "        Eval_abs+=E_abs(y_val_predict,y_val)\n",
    "    Eval_01/=n_folds\n",
    "    Eval_abs/=n_folds\n",
    "    if Eval_01<=0.17 or Eval_abs<=0.32:\n",
    "        pca = PCA(n_components=n_components)\n",
    "        pca.fit(x_sample)\n",
    "        x_reduce = pca.transform(x_sample)\n",
    "        logistic = linear_model.LogisticRegression(C=c)\n",
    "        logistic.fit(x_reduce,y_sample)\n",
    "        x_all=np.concatenate((feat[\"x1_int\"],feat[\"x1_float\"]),axis=1)\n",
    "        x_all_reduce=pca.transform(x_all)\n",
    "        y_all_predict = logistic.predict_proba(x_all_reduce)\n",
    "        y_all_predict = y_all_predict[:,1]\n",
    "        y_all_predict = np.transpose(y_all_predict)\n",
    "        output=np.column_stack((output,y_all_predict))\n",
    "        count+=1\n",
    "    if count==count_limit:\n",
    "        break\n",
    "output=output[:,1:]"
   ]
  },
  {
   "cell_type": "code",
   "execution_count": 7,
   "metadata": {
    "collapsed": true
   },
   "outputs": [],
   "source": [
    "savemat(\"../../result/PCA_logisticReg/blending.mat\",{\"output\":output})"
   ]
  }
 ],
 "metadata": {
  "kernelspec": {
   "display_name": "Python 3",
   "language": "python",
   "name": "python3"
  },
  "language_info": {
   "codemirror_mode": {
    "name": "ipython",
    "version": 3
   },
   "file_extension": ".py",
   "mimetype": "text/x-python",
   "name": "python",
   "nbconvert_exporter": "python",
   "pygments_lexer": "ipython3",
   "version": "3.5.0"
  }
 },
 "nbformat": 4,
 "nbformat_minor": 0
}
