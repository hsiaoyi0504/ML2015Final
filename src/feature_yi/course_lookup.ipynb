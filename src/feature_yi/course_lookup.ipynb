{
 "cells": [
  {
   "cell_type": "code",
   "execution_count": 1,
   "metadata": {
    "collapsed": true
   },
   "outputs": [],
   "source": [
    "import pandas as pd\n",
    "import numpy as np"
   ]
  },
  {
   "cell_type": "code",
   "execution_count": 2,
   "metadata": {
    "collapsed": true
   },
   "outputs": [],
   "source": [
    "data=pd.read_csv(\"../../data/ML_final_project/object.csv\")"
   ]
  },
  {
   "cell_type": "code",
   "execution_count": 3,
   "metadata": {
    "collapsed": false
   },
   "outputs": [
    {
     "data": {
      "text/html": [
       "<div>\n",
       "<table border=\"1\" class=\"dataframe\">\n",
       "  <thead>\n",
       "    <tr style=\"text-align: right;\">\n",
       "      <th></th>\n",
       "      <th>course_id</th>\n",
       "      <th>module_id</th>\n",
       "      <th>category</th>\n",
       "      <th>children</th>\n",
       "      <th>start</th>\n",
       "    </tr>\n",
       "  </thead>\n",
       "  <tbody>\n",
       "    <tr>\n",
       "      <th>0</th>\n",
       "      <td>SpATywNh6bZuzm8s1ceuBUnMUAeoAHHw</td>\n",
       "      <td>L1s4VseGlRT302GZlJNStvtJZnvnr3IJ</td>\n",
       "      <td>about</td>\n",
       "      <td>NaN</td>\n",
       "      <td>null</td>\n",
       "    </tr>\n",
       "    <tr>\n",
       "      <th>1</th>\n",
       "      <td>SpATywNh6bZuzm8s1ceuBUnMUAeoAHHw</td>\n",
       "      <td>HxVne4dRqhXXf9FEsuUxVBG2THLkXgGV</td>\n",
       "      <td>about</td>\n",
       "      <td>NaN</td>\n",
       "      <td>null</td>\n",
       "    </tr>\n",
       "    <tr>\n",
       "      <th>2</th>\n",
       "      <td>SpATywNh6bZuzm8s1ceuBUnMUAeoAHHw</td>\n",
       "      <td>3fpwAdewUyNZkLToSwy7eWQmmglHzA0G</td>\n",
       "      <td>chapter</td>\n",
       "      <td>wq9HGmGdGoXFRgp4KQzo7WD8RSwwckZL X2rMpSy9lvzEe...</td>\n",
       "      <td>2014-08-11T01:00:00</td>\n",
       "    </tr>\n",
       "    <tr>\n",
       "      <th>3</th>\n",
       "      <td>SpATywNh6bZuzm8s1ceuBUnMUAeoAHHw</td>\n",
       "      <td>qEdbIFRbbfpjN4tkWOq8kMsxES84yPfy</td>\n",
       "      <td>chapter</td>\n",
       "      <td>nQZ5JRSJDlJ0XmlkYykP7iWt748Hp5uQ ehLxBxQUzqxrI...</td>\n",
       "      <td>2014-07-28T01:00:00</td>\n",
       "    </tr>\n",
       "    <tr>\n",
       "      <th>4</th>\n",
       "      <td>SpATywNh6bZuzm8s1ceuBUnMUAeoAHHw</td>\n",
       "      <td>q9vSHnqnL8T6MSYy1QZ1d1v8gb7HqKIc</td>\n",
       "      <td>chapter</td>\n",
       "      <td>aifkOeC4slG9VREeJqwyVeLriGIqAUjY 8u4PaPNvjqjSf...</td>\n",
       "      <td>2014-08-25T01:00:00</td>\n",
       "    </tr>\n",
       "  </tbody>\n",
       "</table>\n",
       "</div>"
      ],
      "text/plain": [
       "                          course_id                         module_id  \\\n",
       "0  SpATywNh6bZuzm8s1ceuBUnMUAeoAHHw  L1s4VseGlRT302GZlJNStvtJZnvnr3IJ   \n",
       "1  SpATywNh6bZuzm8s1ceuBUnMUAeoAHHw  HxVne4dRqhXXf9FEsuUxVBG2THLkXgGV   \n",
       "2  SpATywNh6bZuzm8s1ceuBUnMUAeoAHHw  3fpwAdewUyNZkLToSwy7eWQmmglHzA0G   \n",
       "3  SpATywNh6bZuzm8s1ceuBUnMUAeoAHHw  qEdbIFRbbfpjN4tkWOq8kMsxES84yPfy   \n",
       "4  SpATywNh6bZuzm8s1ceuBUnMUAeoAHHw  q9vSHnqnL8T6MSYy1QZ1d1v8gb7HqKIc   \n",
       "\n",
       "  category                                           children  \\\n",
       "0    about                                                NaN   \n",
       "1    about                                                NaN   \n",
       "2  chapter  wq9HGmGdGoXFRgp4KQzo7WD8RSwwckZL X2rMpSy9lvzEe...   \n",
       "3  chapter  nQZ5JRSJDlJ0XmlkYykP7iWt748Hp5uQ ehLxBxQUzqxrI...   \n",
       "4  chapter  aifkOeC4slG9VREeJqwyVeLriGIqAUjY 8u4PaPNvjqjSf...   \n",
       "\n",
       "                 start  \n",
       "0                 null  \n",
       "1                 null  \n",
       "2  2014-08-11T01:00:00  \n",
       "3  2014-07-28T01:00:00  \n",
       "4  2014-08-25T01:00:00  "
      ]
     },
     "execution_count": 3,
     "metadata": {},
     "output_type": "execute_result"
    }
   ],
   "source": [
    "data.head()"
   ]
  },
  {
   "cell_type": "code",
   "execution_count": 4,
   "metadata": {
    "collapsed": false
   },
   "outputs": [
    {
     "name": "stdout",
     "output_type": "stream",
     "text": [
      "['vertical', 'problem', 'video', 'sequential', 'discussion', 'html', 'chapter', 'about', 'outlink', 'course_info', 'static_tab', 'course', 'combinedopenended', 'peergrading', 'dictation']\n"
     ]
    }
   ],
   "source": [
    "category=list(data[\"category\"].value_counts().index.values)\n",
    "print(category)"
   ]
  },
  {
   "cell_type": "code",
   "execution_count": 5,
   "metadata": {
    "collapsed": false
   },
   "outputs": [],
   "source": [
    "index=list(data[\"course_id\"].value_counts().index.values)\n",
    "s1=pd.Series(index,name=\"course_id\")\n",
    "s2=pd.Series(data[\"course_id\"].value_counts().tolist(),name=\"total_object_num\")\n",
    "data2=pd.concat([s1,s2],axis=1)"
   ]
  },
  {
   "cell_type": "code",
   "execution_count": 6,
   "metadata": {
    "collapsed": false
   },
   "outputs": [],
   "source": [
    "total_module_num=[]\n",
    "for i in range(len(index)):\n",
    "    total_module_num.append( len(data[ data[\"course_id\"].isin([index[i]]) ][\"module_id\"].value_counts()) )\n",
    "data2[\"total_module_num\"]=total_module_num"
   ]
  },
  {
   "cell_type": "code",
   "execution_count": 7,
   "metadata": {
    "collapsed": false
   },
   "outputs": [
    {
     "data": {
      "text/html": [
       "<div>\n",
       "<table border=\"1\" class=\"dataframe\">\n",
       "  <thead>\n",
       "    <tr style=\"text-align: right;\">\n",
       "      <th></th>\n",
       "      <th>course_id</th>\n",
       "      <th>total_object_num</th>\n",
       "      <th>total_module_num</th>\n",
       "    </tr>\n",
       "  </thead>\n",
       "  <tbody>\n",
       "    <tr>\n",
       "      <th>0</th>\n",
       "      <td>shM3Yy9vxHn2aqjSYfQXOcwGo0hWh3MI</td>\n",
       "      <td>2113</td>\n",
       "      <td>2109</td>\n",
       "    </tr>\n",
       "    <tr>\n",
       "      <th>1</th>\n",
       "      <td>9Bd26pfDLvkPINwLnpaGcf0LrLUvY1Mz</td>\n",
       "      <td>1983</td>\n",
       "      <td>1823</td>\n",
       "    </tr>\n",
       "    <tr>\n",
       "      <th>2</th>\n",
       "      <td>Wm3dddHSynJ76EJV6hyLYKGGRL0JF3YK</td>\n",
       "      <td>1356</td>\n",
       "      <td>1339</td>\n",
       "    </tr>\n",
       "    <tr>\n",
       "      <th>3</th>\n",
       "      <td>HbeAZjZFFQUe90oTP0RRO0PEtRAqU3kK</td>\n",
       "      <td>1312</td>\n",
       "      <td>1284</td>\n",
       "    </tr>\n",
       "    <tr>\n",
       "      <th>4</th>\n",
       "      <td>nSfGxfEtzw5G72fVbfaowxsV46Pg1xIc</td>\n",
       "      <td>1151</td>\n",
       "      <td>1151</td>\n",
       "    </tr>\n",
       "  </tbody>\n",
       "</table>\n",
       "</div>"
      ],
      "text/plain": [
       "                          course_id  total_object_num  total_module_num\n",
       "0  shM3Yy9vxHn2aqjSYfQXOcwGo0hWh3MI              2113              2109\n",
       "1  9Bd26pfDLvkPINwLnpaGcf0LrLUvY1Mz              1983              1823\n",
       "2  Wm3dddHSynJ76EJV6hyLYKGGRL0JF3YK              1356              1339\n",
       "3  HbeAZjZFFQUe90oTP0RRO0PEtRAqU3kK              1312              1284\n",
       "4  nSfGxfEtzw5G72fVbfaowxsV46Pg1xIc              1151              1151"
      ]
     },
     "execution_count": 7,
     "metadata": {},
     "output_type": "execute_result"
    }
   ],
   "source": [
    "data2.head()"
   ]
  },
  {
   "cell_type": "code",
   "execution_count": 8,
   "metadata": {
    "collapsed": false
   },
   "outputs": [],
   "source": [
    "vertical, problem, video, sequential, discussion, html, chapter, about, outlink, course_info, static_tab, course, combinedopenended, peergrading, dictation= ([] for i in range(15))\n",
    "for i in range(len(index)):\n",
    "    vertical.append( len(data[ data[\"course_id\"].isin([index[i]]) & data[\"category\"].isin([category[0]]) ]) )\n",
    "    problem.append( len(data[ data[\"course_id\"].isin([index[i]]) & data[\"category\"].isin([category[1]]) ]) )\n",
    "    video.append( len(data[ data[\"course_id\"].isin([index[i]]) & data[\"category\"].isin([category[2]]) ]) )\n",
    "    sequential.append( len(data[ data[\"course_id\"].isin([index[i]]) & data[\"category\"].isin([category[3]]) ]) )\n",
    "    discussion.append( len(data[ data[\"course_id\"].isin([index[i]]) & data[\"category\"].isin([category[4]]) ]) )\n",
    "    html.append( len(data[ data[\"course_id\"].isin([index[i]]) & data[\"category\"].isin([category[5]]) ]) )\n",
    "    chapter.append( len(data[ data[\"course_id\"].isin([index[i]]) & data[\"category\"].isin([category[6]]) ]) )\n",
    "    about.append( len(data[ data[\"course_id\"].isin([index[i]]) & data[\"category\"].isin([category[7]]) ]) )\n",
    "    outlink.append( len(data[ data[\"course_id\"].isin([index[i]]) & data[\"category\"].isin([category[8]]) ]) )\n",
    "    course_info.append( len(data[ data[\"course_id\"].isin([index[i]]) & data[\"category\"].isin([category[9]]) ]) )\n",
    "    static_tab.append( len(data[ data[\"course_id\"].isin([index[i]]) & data[\"category\"].isin([category[10]]) ]) )\n",
    "    course.append( len(data[ data[\"course_id\"].isin([index[i]]) & data[\"category\"].isin([category[11]]) ]) )\n",
    "    combinedopenended.append( len(data[ data[\"course_id\"].isin([index[i]]) & data[\"category\"].isin([category[12]]) ]) )\n",
    "    peergrading.append( len(data[ data[\"course_id\"].isin([index[i]]) & data[\"category\"].isin([category[13]]) ]) )\n",
    "    dictation.append( len(data[ data[\"course_id\"].isin([index[i]]) & data[\"category\"].isin([category[14]]) ]) )\n",
    "data2[\"vertical_num\"]=vertical\n",
    "data2[\"problem_num\"]=problem\n",
    "data2[\"video_num\"]=video\n",
    "data2[\"sequential_num\"]=sequential\n",
    "data2[\"discussion_num\"]=discussion\n",
    "data2[\"html_num\"]=html\n",
    "data2[\"chapter_num\"]=chapter\n",
    "data2[\"about_num\"]=about\n",
    "data2[\"outlink_num\"]=outlink\n",
    "data2[\"course_info_num\"]=course_info\n",
    "data2[\"static_tab_num\"]=static_tab\n",
    "data2[\"course_num\"]=course\n",
    "data2[\"combinedopenended_num\"]=combinedopenended\n",
    "data2[\"peergrading_num\"]=peergrading\n",
    "data2[\"dictation_num\"]=dictation"
   ]
  },
  {
   "cell_type": "code",
   "execution_count": 9,
   "metadata": {
    "collapsed": false
   },
   "outputs": [
    {
     "data": {
      "text/html": [
       "<div>\n",
       "<table border=\"1\" class=\"dataframe\">\n",
       "  <thead>\n",
       "    <tr style=\"text-align: right;\">\n",
       "      <th></th>\n",
       "      <th>course_id</th>\n",
       "      <th>total_object_num</th>\n",
       "      <th>total_module_num</th>\n",
       "      <th>vertical_num</th>\n",
       "      <th>problem_num</th>\n",
       "      <th>video_num</th>\n",
       "      <th>sequential_num</th>\n",
       "      <th>discussion_num</th>\n",
       "      <th>html_num</th>\n",
       "      <th>chapter_num</th>\n",
       "      <th>about_num</th>\n",
       "      <th>outlink_num</th>\n",
       "      <th>course_info_num</th>\n",
       "      <th>static_tab_num</th>\n",
       "      <th>course_num</th>\n",
       "      <th>combinedopenended_num</th>\n",
       "      <th>peergrading_num</th>\n",
       "      <th>dictation_num</th>\n",
       "    </tr>\n",
       "  </thead>\n",
       "  <tbody>\n",
       "    <tr>\n",
       "      <th>0</th>\n",
       "      <td>shM3Yy9vxHn2aqjSYfQXOcwGo0hWh3MI</td>\n",
       "      <td>2113</td>\n",
       "      <td>2109</td>\n",
       "      <td>719</td>\n",
       "      <td>500</td>\n",
       "      <td>256</td>\n",
       "      <td>130</td>\n",
       "      <td>473</td>\n",
       "      <td>2</td>\n",
       "      <td>19</td>\n",
       "      <td>4</td>\n",
       "      <td>4</td>\n",
       "      <td>2</td>\n",
       "      <td>3</td>\n",
       "      <td>1</td>\n",
       "      <td>0</td>\n",
       "      <td>0</td>\n",
       "      <td>0</td>\n",
       "    </tr>\n",
       "    <tr>\n",
       "      <th>1</th>\n",
       "      <td>9Bd26pfDLvkPINwLnpaGcf0LrLUvY1Mz</td>\n",
       "      <td>1983</td>\n",
       "      <td>1823</td>\n",
       "      <td>969</td>\n",
       "      <td>291</td>\n",
       "      <td>502</td>\n",
       "      <td>124</td>\n",
       "      <td>58</td>\n",
       "      <td>13</td>\n",
       "      <td>14</td>\n",
       "      <td>4</td>\n",
       "      <td>2</td>\n",
       "      <td>2</td>\n",
       "      <td>3</td>\n",
       "      <td>1</td>\n",
       "      <td>0</td>\n",
       "      <td>0</td>\n",
       "      <td>0</td>\n",
       "    </tr>\n",
       "    <tr>\n",
       "      <th>2</th>\n",
       "      <td>Wm3dddHSynJ76EJV6hyLYKGGRL0JF3YK</td>\n",
       "      <td>1356</td>\n",
       "      <td>1339</td>\n",
       "      <td>482</td>\n",
       "      <td>465</td>\n",
       "      <td>273</td>\n",
       "      <td>109</td>\n",
       "      <td>0</td>\n",
       "      <td>2</td>\n",
       "      <td>15</td>\n",
       "      <td>3</td>\n",
       "      <td>1</td>\n",
       "      <td>2</td>\n",
       "      <td>3</td>\n",
       "      <td>1</td>\n",
       "      <td>0</td>\n",
       "      <td>0</td>\n",
       "      <td>0</td>\n",
       "    </tr>\n",
       "    <tr>\n",
       "      <th>3</th>\n",
       "      <td>HbeAZjZFFQUe90oTP0RRO0PEtRAqU3kK</td>\n",
       "      <td>1312</td>\n",
       "      <td>1284</td>\n",
       "      <td>436</td>\n",
       "      <td>468</td>\n",
       "      <td>260</td>\n",
       "      <td>110</td>\n",
       "      <td>0</td>\n",
       "      <td>12</td>\n",
       "      <td>15</td>\n",
       "      <td>3</td>\n",
       "      <td>2</td>\n",
       "      <td>2</td>\n",
       "      <td>3</td>\n",
       "      <td>1</td>\n",
       "      <td>0</td>\n",
       "      <td>0</td>\n",
       "      <td>0</td>\n",
       "    </tr>\n",
       "    <tr>\n",
       "      <th>4</th>\n",
       "      <td>nSfGxfEtzw5G72fVbfaowxsV46Pg1xIc</td>\n",
       "      <td>1151</td>\n",
       "      <td>1151</td>\n",
       "      <td>349</td>\n",
       "      <td>306</td>\n",
       "      <td>150</td>\n",
       "      <td>60</td>\n",
       "      <td>260</td>\n",
       "      <td>1</td>\n",
       "      <td>15</td>\n",
       "      <td>3</td>\n",
       "      <td>2</td>\n",
       "      <td>2</td>\n",
       "      <td>2</td>\n",
       "      <td>1</td>\n",
       "      <td>0</td>\n",
       "      <td>0</td>\n",
       "      <td>0</td>\n",
       "    </tr>\n",
       "  </tbody>\n",
       "</table>\n",
       "</div>"
      ],
      "text/plain": [
       "                          course_id  total_object_num  total_module_num  \\\n",
       "0  shM3Yy9vxHn2aqjSYfQXOcwGo0hWh3MI              2113              2109   \n",
       "1  9Bd26pfDLvkPINwLnpaGcf0LrLUvY1Mz              1983              1823   \n",
       "2  Wm3dddHSynJ76EJV6hyLYKGGRL0JF3YK              1356              1339   \n",
       "3  HbeAZjZFFQUe90oTP0RRO0PEtRAqU3kK              1312              1284   \n",
       "4  nSfGxfEtzw5G72fVbfaowxsV46Pg1xIc              1151              1151   \n",
       "\n",
       "   vertical_num  problem_num  video_num  sequential_num  discussion_num  \\\n",
       "0           719          500        256             130             473   \n",
       "1           969          291        502             124              58   \n",
       "2           482          465        273             109               0   \n",
       "3           436          468        260             110               0   \n",
       "4           349          306        150              60             260   \n",
       "\n",
       "   html_num  chapter_num  about_num  outlink_num  course_info_num  \\\n",
       "0         2           19          4            4                2   \n",
       "1        13           14          4            2                2   \n",
       "2         2           15          3            1                2   \n",
       "3        12           15          3            2                2   \n",
       "4         1           15          3            2                2   \n",
       "\n",
       "   static_tab_num  course_num  combinedopenended_num  peergrading_num  \\\n",
       "0               3           1                      0                0   \n",
       "1               3           1                      0                0   \n",
       "2               3           1                      0                0   \n",
       "3               3           1                      0                0   \n",
       "4               2           1                      0                0   \n",
       "\n",
       "   dictation_num  \n",
       "0              0  \n",
       "1              0  \n",
       "2              0  \n",
       "3              0  \n",
       "4              0  "
      ]
     },
     "execution_count": 9,
     "metadata": {},
     "output_type": "execute_result"
    }
   ],
   "source": [
    "data2.head()"
   ]
  },
  {
   "cell_type": "code",
   "execution_count": 10,
   "metadata": {
    "collapsed": false
   },
   "outputs": [],
   "source": [
    "data2.to_csv(\"../../data/course_lookup.csv\",index=False)"
   ]
  }
 ],
 "metadata": {
  "kernelspec": {
   "display_name": "Python 3",
   "language": "python",
   "name": "python3"
  },
  "language_info": {
   "codemirror_mode": {
    "name": "ipython",
    "version": 3
   },
   "file_extension": ".py",
   "mimetype": "text/x-python",
   "name": "python",
   "nbconvert_exporter": "python",
   "pygments_lexer": "ipython3",
   "version": "3.5.0"
  }
 },
 "nbformat": 4,
 "nbformat_minor": 0
}
